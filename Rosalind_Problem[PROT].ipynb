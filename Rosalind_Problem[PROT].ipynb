{
  "nbformat": 4,
  "nbformat_minor": 0,
  "metadata": {
    "colab": {
      "provenance": [],
      "authorship_tag": "ABX9TyOXEERa8jnprDqFIl5S9kIF",
      "include_colab_link": true
    },
    "kernelspec": {
      "name": "python3",
      "display_name": "Python 3"
    },
    "language_info": {
      "name": "python"
    }
  },
  "cells": [
    {
      "cell_type": "markdown",
      "metadata": {
        "id": "view-in-github",
        "colab_type": "text"
      },
      "source": [
        "<a href=\"https://colab.research.google.com/github/RobertsKi99/Rosalind-Solutions/blob/main/Rosalind_Problem%5BPROT%5D.ipynb\" target=\"_parent\"><img src=\"https://colab.research.google.com/assets/colab-badge.svg\" alt=\"Open In Colab\"/></a>"
      ]
    },
    {
      "cell_type": "markdown",
      "source": [
        "## Problem\n",
        "The 20 commonly occurring amino acids are abbreviated by using 20 letters from the English alphabet (all letters except for B, J, O, U, X, and Z). Protein strings are constructed from these 20 symbols. Henceforth, the term genetic string will incorporate protein strings along with DNA strings and RNA strings.\n",
        "\n",
        "The RNA codon table dictates the details regarding the encoding of specific codons into the amino acid alphabet.\n",
        "\n",
        "Given: An RNA string s\n",
        " corresponding to a strand of mRNA (of length at most 10 kbp).\n",
        "\n",
        "Return: The protein string encoded by s\n",
        ".\n",
        "\n",
        "### Sample Dataset\n",
        "AUGGCCAUGGCGCCCAGAACUGAGAUCAAUAGUACCCGUAUUAACGGGUGA\n",
        "### Sample Output\n",
        "MAMAPRTEINSTRING"
      ],
      "metadata": {
        "id": "8DHWrMX7oQRC"
      }
    },
    {
      "cell_type": "code",
      "execution_count": 7,
      "metadata": {
        "colab": {
          "base_uri": "https://localhost:8080/"
        },
        "id": "IgA6NmFGoNUf",
        "outputId": "71aaf3e2-2f76-4673-ce75-ee46fc962239"
      },
      "outputs": [
        {
          "output_type": "stream",
          "name": "stdout",
          "text": [
            "MAMAPRTEINSTRING\n"
          ]
        }
      ],
      "source": [
        "AA_coder = {\n",
        "    'AUG': 'M', 'UUU': 'F', 'UUC': 'F', 'UUA': 'L', 'UUG': 'L',\n",
        "    'CUU': 'L', 'CUC': 'L', 'CUA': 'L', 'CUG': 'L', 'AUU': 'I', 'AAU': 'N',\n",
        "    'AUC': 'I', 'AUA': 'I', 'ACU': 'T', 'ACC': 'T', 'ACA': 'T', 'AAC': 'N',\n",
        "    'ACG': 'T', 'GUU': 'V', 'GUC': 'V', 'GUA': 'V', 'GUG': 'V',\n",
        "    'GCU': 'A', 'GCC': 'A', 'GCA': 'A', 'GCG': 'A', 'UAU': 'Y',\n",
        "    'UAC': 'Y', 'UGU': 'C', 'UGC': 'C', 'UGG': 'W', 'CGU': 'R',\n",
        "    'CGC': 'R', 'CGA': 'R', 'CGG': 'R', 'CCC': 'P', 'AGU': 'S', 'AGC': 'S',\n",
        "    'AGA': 'R', 'AGG': 'R', 'GGU': 'G', 'GGC': 'G', 'GGA': 'G',\n",
        "    'GGG': 'G', 'GAG': 'E', 'UAA': 'Stop', 'UAG': 'Stop', 'UGA': 'Stop'}\n",
        "\n",
        "def rna_to_protein(rna):\n",
        "    protein = ''\n",
        "    for i in range(0, len(rna), 3):\n",
        "        if AA_coder[rna[i:i+3]] == 'Stop':\n",
        "            break\n",
        "        protein += AA_coder[rna[i:i+3]]\n",
        "    return protein\n",
        "\n",
        "print(rna_to_protein('AUGGCCAUGGCGCCCAGAACUGAGAUCAAUAGUACCCGUAUUAACGGGUGA'))"
      ]
    }
  ]
}