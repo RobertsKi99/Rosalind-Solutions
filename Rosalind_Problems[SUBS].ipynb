{
  "nbformat": 4,
  "nbformat_minor": 0,
  "metadata": {
    "colab": {
      "provenance": [],
      "authorship_tag": "ABX9TyNoV8qVCXXsQEMbhYl6Kmph",
      "include_colab_link": true
    },
    "kernelspec": {
      "name": "python3",
      "display_name": "Python 3"
    },
    "language_info": {
      "name": "python"
    }
  },
  "cells": [
    {
      "cell_type": "markdown",
      "metadata": {
        "id": "view-in-github",
        "colab_type": "text"
      },
      "source": [
        "<a href=\"https://colab.research.google.com/github/RobertsKi99/Rosalind-Solutions/blob/main/Rosalind_Problems%5BSUBS%5D.ipynb\" target=\"_parent\"><img src=\"https://colab.research.google.com/assets/colab-badge.svg\" alt=\"Open In Colab\"/></a>"
      ]
    },
    {
      "cell_type": "markdown",
      "source": [
        "## Problem\n",
        "\n",
        "Given two strings s\n",
        " and t\n",
        ", t\n",
        " is a substring of s\n",
        " if t\n",
        " is contained as a contiguous collection of symbols in s\n",
        " (as a result, t\n",
        " must be no longer than s\n",
        ").\n",
        "\n",
        "The position of a symbol in a string is the total number of symbols found to its left, including itself (e.g., the positions of all occurrences of 'U' in \"AUGCUUCAGAAAGGUCUUACG\" are 2, 5, 6, 15, 17, and 18). The symbol at position i\n",
        " of s\n",
        " is denoted by s[i]\n",
        ".\n",
        "\n",
        "A substring of s\n",
        " can be represented as s[j:k]\n",
        ", where j\n",
        " and k\n",
        " represent the starting and ending positions of the substring in s\n",
        "; for example, if s\n",
        " = \"AUGCUUCAGAAAGGUCUUACG\", then s[2:5]\n",
        " = \"UGCU\".\n",
        "\n",
        "The location of a substring s[j:k]\n",
        " is its beginning position j\n",
        "; note that t\n",
        " will have multiple locations in s\n",
        " if it occurs more than once as a substring of s\n",
        " (see the Sample below).\n",
        "\n",
        "### Given:\n",
        "Two DNA strings s and t\n",
        " (each of length at most 1 kbp).\n",
        "\n",
        "### Return:\n",
        "All locations of t as a substring of s.\n",
        "\n",
        "### Sample Dataset\n",
        "GATATATGCATATACTT\n",
        "ATAT\n",
        "\n",
        "### Sample Output\n",
        "\n",
        "2 4 10"
      ],
      "metadata": {
        "id": "mbKeOIwoX11u"
      }
    },
    {
      "cell_type": "code",
      "source": [
        "s = \"GATATATGCATATACTT\"\n",
        "t = \"ATAT\"\n",
        "\n",
        "def motif_finder(s, t):\n",
        "    locations = []\n",
        "    for i in range(len(s) - len(t) + 1):\n",
        "        if s[i:i + len(t)] == t:\n",
        "            locations.append(i + 1)\n",
        "    return locations\n",
        "\n",
        "\n",
        "print(motif_finder(s, t))\n"
      ],
      "metadata": {
        "colab": {
          "base_uri": "https://localhost:8080/"
        },
        "id": "TCJLWDPAaNnU",
        "outputId": "b77c55b7-5b5c-404c-dc15-e78272022d19"
      },
      "execution_count": 2,
      "outputs": [
        {
          "output_type": "stream",
          "name": "stdout",
          "text": [
            "[2, 4, 10]\n"
          ]
        }
      ]
    }
  ]
}