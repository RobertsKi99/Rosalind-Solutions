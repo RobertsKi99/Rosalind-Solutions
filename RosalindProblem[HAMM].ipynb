{
  "nbformat": 4,
  "nbformat_minor": 0,
  "metadata": {
    "colab": {
      "provenance": [],
      "authorship_tag": "ABX9TyP667/2SEplO1qb38gDtT5t",
      "include_colab_link": true
    },
    "kernelspec": {
      "name": "python3",
      "display_name": "Python 3"
    },
    "language_info": {
      "name": "python"
    }
  },
  "cells": [
    {
      "cell_type": "markdown",
      "metadata": {
        "id": "view-in-github",
        "colab_type": "text"
      },
      "source": [
        "<a href=\"https://colab.research.google.com/github/RobertsKi99/Rosalind-Solutions/blob/main/RosalindProblem%5BHAMM%5D.ipynb\" target=\"_parent\"><img src=\"https://colab.research.google.com/assets/colab-badge.svg\" alt=\"Open In Colab\"/></a>"
      ]
    },
    {
      "cell_type": "markdown",
      "source": [
        "Evolution as a Sequence of Mistakesclick to expand\n",
        "Problem\n",
        "\n",
        "Figure 2. The Hamming distance between these two strings is 7. Mismatched symbols are colored red.\n",
        "Given two strings s\n",
        " and t\n",
        " of equal length, the Hamming distance between s\n",
        " and t\n",
        ", denoted dH(s,t)\n",
        ", is the number of corresponding symbols that differ in s\n",
        " and t\n",
        ". See Figure 2.\n",
        "\n",
        "Given: Two DNA strings s\n",
        " and t\n",
        " of equal length (not exceeding 1 kbp).\n",
        "\n",
        "Return: The Hamming distance dH(s,t)\n",
        ".\n",
        "\n",
        "Sample Dataset\n",
        "\n",
        "\"GAGCCTACTAACGGGAT\"\n",
        "\n",
        "\"CATCGTAATGACGGCCT\"\n",
        "\n",
        "Sample Output\n",
        "7"
      ],
      "metadata": {
        "id": "-aD-SLr7g6-A"
      }
    },
    {
      "cell_type": "code",
      "source": [
        "s = \"GAGCCTACTAACGGGAT\"\n",
        "t = \"CATCGTAATGACGGCCT\"\n",
        "\n",
        "\n",
        "def HamTime(s,t): #takes in two strings\n",
        "  if len(s)==len(t): #checks for lengths\n",
        "    HamCount =0 #init var\n",
        "    for i in range(len(s)): #iterate through list\n",
        "      if s[i]!=t[i]: #if they dont match, increase counter\n",
        "        HamCount +=1\n",
        "    return HamCount #return counter\n",
        "  else:\n",
        "    print(\"Strings are not equal\")\n",
        "\n",
        "HamTime(s,t)"
      ],
      "metadata": {
        "colab": {
          "base_uri": "https://localhost:8080/"
        },
        "id": "WUhwC-KIg-CK",
        "outputId": "879a2d9b-b2bb-4446-c312-09a57a2e550f"
      },
      "execution_count": 10,
      "outputs": [
        {
          "output_type": "execute_result",
          "data": {
            "text/plain": [
              "7"
            ]
          },
          "metadata": {},
          "execution_count": 10
        }
      ]
    }
  ]
}