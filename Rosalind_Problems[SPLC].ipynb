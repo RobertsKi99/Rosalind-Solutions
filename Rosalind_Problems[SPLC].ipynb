{
  "nbformat": 4,
  "nbformat_minor": 0,
  "metadata": {
    "colab": {
      "provenance": [],
      "authorship_tag": "ABX9TyMXPc1KBEPY6zCNqM1h3qyY"
    },
    "kernelspec": {
      "name": "python3",
      "display_name": "Python 3"
    },
    "language_info": {
      "name": "python"
    }
  },
  "cells": [
    {
      "cell_type": "markdown",
      "source": [
        "## Problem\n",
        "After identifying the exons and introns of an RNA string, we only need to delete the introns and concatenate the exons to form a new string ready for translation.\n",
        "\n",
        "**Given**: A DNA string s\n",
        " (of length at most 1 kbp) and a collection of substrings of s\n",
        " acting as introns. All strings are given in FASTA format.\n",
        "\n",
        "**Return**: A protein string resulting from transcribing and translating the exons of s\n",
        ". (Note: Only one solution will exist for the dataset provided.)\n",
        "\n",
        "### Sample Dataset\n",
        " > Rosalind_10\n",
        "ATGGTCTACATAGCTGACAAACAGCACGTAGCAATCGGTCGAATCTCGAGAGGCATATGGTCACATGATCGGTCGAGCGTGTTTCAAAGTTTGCGCCTAG\n",
        "\n",
        " > Rosalind_12\n",
        "ATCGGTCGAA\n",
        "\n",
        " > Rosalind_15\n",
        "ATCGGTCGAGCGTGT\n",
        "\n",
        "### Sample Output\n",
        "MVYIADKQHVASREAYGHMFKVCA"
      ],
      "metadata": {
        "id": "4w6ZIQKjxU20"
      }
    },
    {
      "cell_type": "code",
      "source": [
        "dna_string = \"ATGGTCTACATAGCTGACAAACAGCACGTAGCAATCGGTCGAATCTCGAGAGGCATATGGTCACATGATCGGTCGAGCGTGTTTCAAAGTTTGCGCCTAG\"\n",
        "introns = [\"ATCGGTCGAA\", \"ATCGGTCGAGCGTGT\"]\n",
        "\n",
        "def Translation(dna_string, introns):\n",
        "    for intron in introns:\n",
        "        dna_string = dna_string.replace(intron, \"\")\n",
        "\n",
        "    rna_string = dna_string.replace(\"T\", \"U\")\n",
        "\n",
        "    protein_string = \"\"\n",
        "    codon_table = {\n",
        "        \"UUU\": \"F\", \"UUC\": \"F\", \"UUA\": \"L\", \"UUG\": \"L\",\n",
        "        \"CUU\": \"L\", \"CUC\": \"L\", \"CUA\": \"L\", \"CUG\": \"L\",\n",
        "        \"AUU\": \"I\", \"AUC\": \"I\", \"AUA\": \"I\", \"AUG\": \"M\",\n",
        "        \"GUU\": \"V\", \"GUC\": \"V\", \"GUA\": \"V\", \"GUG\": \"V\",\n",
        "        \"UCU\": \"S\", \"UCC\": \"S\", \"UCA\": \"S\", \"UCG\": \"S\",\n",
        "        \"CCU\": \"P\", \"CCC\": \"P\", \"CCA\": \"P\", \"CCG\": \"P\",\n",
        "        \"ACU\": \"T\", \"ACC\": \"T\", \"ACA\": \"T\", \"ACG\": \"T\",\n",
        "        \"GCU\": \"A\", \"GCC\": \"A\", \"GCA\": \"A\", \"GCG\": \"A\",\n",
        "        \"UAU\": \"Y\", \"UAC\": \"Y\", \"UAA\": \"*\", \"UAG\": \"*\",\n",
        "        \"CAU\": \"H\", \"CAC\": \"H\", \"CAA\": \"Q\", \"CAG\": \"Q\",\n",
        "        \"AAU\": \"N\", \"AAC\": \"N\", \"AAA\": \"K\", \"AAG\": \"K\",\n",
        "        \"GAU\": \"D\", \"GAC\": \"D\", \"GAA\": \"E\", \"GAG\": \"E\",\n",
        "        \"UGU\": \"C\", \"UGC\": \"C\", \"UGA\": \"*\", \"UGG\": \"W\",\n",
        "        \"CGU\": \"R\", \"CGC\": \"R\", \"CGA\": \"R\", \"CGG\": \"R\",\n",
        "        \"AGU\": \"S\", \"AGC\": \"S\", \"AGA\": \"R\", \"AGG\": \"R\",\n",
        "        \"GGU\": \"G\", \"GGC\": \"G\", \"GGA\": \"G\", \"GGG\": \"G\",\n",
        "    }\n",
        "\n",
        "    for i in range(0, len(rna_string), 3):\n",
        "        codon = rna_string[i:i+3]\n",
        "        if len(codon) == 3:\n",
        "            if codon_table[codon] == '*':\n",
        "              break\n",
        "            protein_string += codon_table[codon]\n",
        "\n",
        "    print(protein_string)\n",
        "\n",
        "print(Translation(dna_string,introns))"
      ],
      "metadata": {
        "id": "zcXLkWJS4ciZ"
      },
      "execution_count": null,
      "outputs": []
    }
  ]
}