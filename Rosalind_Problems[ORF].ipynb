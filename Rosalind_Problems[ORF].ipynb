{
  "nbformat": 4,
  "nbformat_minor": 0,
  "metadata": {
    "colab": {
      "provenance": [],
      "authorship_tag": "ABX9TyNb+KImP1evuazWbTY+4cJo"
    },
    "kernelspec": {
      "name": "python3",
      "display_name": "Python 3"
    },
    "language_info": {
      "name": "python"
    }
  },
  "cells": [
    {
      "cell_type": "markdown",
      "source": [
        "## Problem\n",
        "Either strand of a DNA double helix can serve as the coding strand for RNA transcription. Hence, a given DNA string implies six total reading frames, or ways in which the same region of DNA can be translated into amino acids: three reading frames result from reading the string itself, whereas three more result from reading its reverse complement.\n",
        "\n",
        "An open reading frame (ORF) is one which starts from the start codon and ends by stop codon, without any other stop codons in between. Thus, a candidate protein string is derived by translating an open reading frame into amino acids until a stop codon is reached.\n",
        "\n",
        "**Given**: A DNA string s\n",
        " of length at most 1 kbp in FASTA format.\n",
        "\n",
        "**Return**: Every distinct candidate protein string that can be translated from ORFs of s\n",
        ". Strings can be returned in any order.\n",
        "\n",
        "### Sample Dataset\n",
        "\n",
        "**>Rosalind_99 AGCCATGTAGCTAACTCAGGTTACATGGGGATGACCCCGCGACTTGGATTAGAGTCTCTTTTGGAATAAGCCTGAATGATCCGAGTAGCATCTCAG**\n",
        "\n",
        "### Sample Output\n",
        "MLLGSFRLIPKETLIQVAGSSPCNLS\n",
        "\n",
        "M\n",
        "\n",
        "MGMTPRLGLESLLE\n",
        "\n",
        "MTPRLGLESLLE"
      ],
      "metadata": {
        "id": "Gm83KrfKJAJZ"
      }
    },
    {
      "source": [
        "sequence = \">Rosalind_99 AGCCATGTAGCTAACTCAGGTTACATGGGGATGACCCCGCGACTTGGATTAGAGTCTCTTTTGGAATAAGCCTGAATGATCCGAGTAGCATCTCAG\"\n",
        "\n",
        "def translate_rna_to_protein(rna):\n",
        "    \"\"\"Translates an RNA sequence into a protein sequence.\"\"\"\n",
        "    codon_table = {\n",
        "        'UUU': 'F', 'UUC': 'F', 'UUA': 'L', 'UUG': 'L',\n",
        "        'CUU': 'L', 'CUC': 'L', 'CUA': 'L', 'CUG': 'L',\n",
        "        'AUU': 'I', 'AUC': 'I', 'AUA': 'I', 'AUG': 'M',\n",
        "        'GUU': 'V', 'GUC': 'V', 'GUA': 'V', 'GUG': 'V',\n",
        "        'UCU': 'S', 'UCC': 'S', 'UCA': 'S', 'UCG': 'S',\n",
        "        'CCU': 'P', 'CCC': 'P', 'CCA': 'P', 'CCG': 'P',\n",
        "        'ACU': 'T', 'ACC': 'T', 'ACA': 'T', 'ACG': 'T',\n",
        "        'GCU': 'A', 'GCC': 'A', 'GCA': 'A', 'GCG': 'A',\n",
        "        'UAU': 'Y', 'UAC': 'Y', 'UAA': '*', 'UAG': '*',\n",
        "        'CAU': 'H', 'CAC': 'H', 'CAA': 'Q', 'CAG': 'Q',\n",
        "        'AAU': 'N', 'AAC': 'N', 'AAA': 'K', 'AAG': 'K',\n",
        "        'GAU': 'D', 'GAC': 'D', 'GAA': 'E', 'GAG': 'E',\n",
        "        'UGU': 'C', 'UGC': 'C', 'UGA': '*', 'UGG': 'W',\n",
        "        'CGU': 'R', 'CGC': 'R', 'CGA': 'R', 'CGG': 'R',\n",
        "        'AGU': 'S', 'AGC': 'S', 'AGA': 'R', 'AGG': 'R',\n",
        "        'GGU': 'G', 'GGC': 'G', 'GGA': 'G', 'GGG': 'G'\n",
        "    }\n",
        "    protein = \"\"\n",
        "    for i in range(0, len(rna), 3):\n",
        "        codon = rna[i:i+3]\n",
        "        if len(codon) == 3:\n",
        "            amino_acid = codon_table.get(codon, '')\n",
        "            if amino_acid == '*':\n",
        "                break\n",
        "            protein += amino_acid\n",
        "    return protein\n",
        "\n",
        "def rv_comp(seq):\n",
        "  if ' > ' in seq:\n",
        "        seq = seq.split(' ')[1]\n",
        "  complement = {'A': 'T', 'T': 'A', 'C': 'G', 'G': 'C'}\n",
        "  return ''.join([complement.get(base, base) for base in seq[::-1]])\n",
        "\n",
        "def find_orfs(dna):\n",
        "    orfs = set()\n",
        "    if ' > ' in dna:\n",
        "        dna = dna.split(' ')[1]\n",
        "    for strand in [dna, rv_comp(dna)]:\n",
        "        for frame in range(3):\n",
        "            rna = strand[frame:].replace('T', 'U')\n",
        "            for i in range(0, len(rna), 3):\n",
        "                if rna[i:i+3] == \"AUG\":\n",
        "                    protein = translate_rna_to_protein(rna[i:])\n",
        "                    if protein:\n",
        "                        orfs.add(protein)\n",
        "    return orfs\n",
        "\n",
        "\n",
        "for protein in find_orfs(sequence):\n",
        "    print(protein)"
      ],
      "cell_type": "code",
      "metadata": {
        "colab": {
          "base_uri": "https://localhost:8080/"
        },
        "id": "w8_wBmAHQ_JK",
        "outputId": "b4bf9241-4bbf-47b3-ee22-80110017d847"
      },
      "execution_count": 16,
      "outputs": [
        {
          "output_type": "stream",
          "name": "stdout",
          "text": [
            "M\n",
            "MLLGSFRLIPKETLIQVAGSSPCNLS\n",
            "MGMTPRLGLESLLE\n",
            "MIRVASQ\n",
            "MA\n",
            "MTPRLGLESLLE\n"
          ]
        }
      ]
    }
  ]
}