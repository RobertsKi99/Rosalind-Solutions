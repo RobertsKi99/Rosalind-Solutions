{
  "nbformat": 4,
  "nbformat_minor": 0,
  "metadata": {
    "colab": {
      "provenance": [],
      "authorship_tag": "ABX9TyM8CIHTz0RWXEjZADQPPy8f",
      "include_colab_link": true
    },
    "kernelspec": {
      "name": "python3",
      "display_name": "Python 3"
    },
    "language_info": {
      "name": "python"
    }
  },
  "cells": [
    {
      "cell_type": "markdown",
      "metadata": {
        "id": "view-in-github",
        "colab_type": "text"
      },
      "source": [
        "<a href=\"https://colab.research.google.com/github/RobertsKi99/Rosalind-Solutions/blob/main/Rosalind_Problem%5BREVC%5D.ipynb\" target=\"_parent\"><img src=\"https://colab.research.google.com/assets/colab-badge.svg\" alt=\"Open In Colab\"/></a>"
      ]
    },
    {
      "cell_type": "markdown",
      "source": [
        "# Problem\n",
        "In DNA strings, symbols 'A' and 'T' are complements of each other, as are 'C' and 'G'.\n",
        "\n",
        "The reverse complement of a DNA string s\n",
        " is the string sc\n",
        " formed by reversing the symbols of s\n",
        ", then taking the complement of each symbol (e.g., the reverse complement of \"GTCA\" is \"TGAC\").\n",
        "\n",
        "Given: A DNA string s\n",
        " of length at most 1000 bp.\n",
        "\n",
        "Return: The reverse complement sc\n",
        " of s\n",
        ".\n",
        "\n",
        "### Sample Dataset\n",
        "AAAACCCGGT\n",
        "### Sample Output\n",
        "ACCGGGTTTT"
      ],
      "metadata": {
        "id": "fN1GNwgtG7cm"
      }
    },
    {
      "cell_type": "code",
      "source": [
        "sequence = 'AAAACCCGGT'\n",
        "\n",
        "complement= {'A' : 'T', 'T' : 'A', 'G' : 'C', 'C' : 'G'}\n",
        "\n",
        "def comp_seq(seq):\n",
        "  comp = ''\n",
        "  for i in seq:\n",
        "    comp += complement[i]\n",
        "  return comp\n",
        "\n",
        "def rev_comp(seq):\n",
        "   comp = comp_seq(seq)\n",
        "   return comp[::-1]\n",
        "\n",
        "print(rev_comp(sequence))"
      ],
      "metadata": {
        "colab": {
          "base_uri": "https://localhost:8080/"
        },
        "id": "puwXtXk3G_UQ",
        "outputId": "ffa44270-8132-437b-8db9-49ac54a07775"
      },
      "execution_count": 3,
      "outputs": [
        {
          "output_type": "stream",
          "name": "stdout",
          "text": [
            "ACCGGGTTTT\n"
          ]
        }
      ]
    }
  ]
}