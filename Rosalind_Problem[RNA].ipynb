{
  "nbformat": 4,
  "nbformat_minor": 0,
  "metadata": {
    "colab": {
      "provenance": [],
      "authorship_tag": "ABX9TyMwbxvCSUEW6DQf46A3EPNO",
      "include_colab_link": true
    },
    "kernelspec": {
      "name": "python3",
      "display_name": "Python 3"
    },
    "language_info": {
      "name": "python"
    }
  },
  "cells": [
    {
      "cell_type": "markdown",
      "metadata": {
        "id": "view-in-github",
        "colab_type": "text"
      },
      "source": [
        "<a href=\"https://colab.research.google.com/github/RobertsKi99/Rosalind-Solutions/blob/main/Rosalind_Problem%5BRNA%5D.ipynb\" target=\"_parent\"><img src=\"https://colab.research.google.com/assets/colab-badge.svg\" alt=\"Open In Colab\"/></a>"
      ]
    },
    {
      "cell_type": "markdown",
      "source": [
        "# Problem\n",
        "An RNA string is a string formed from the alphabet containing 'A', 'C', 'G', and 'U'.\n",
        "\n",
        "Given a DNA string t\n",
        " corresponding to a coding strand, its transcribed RNA string u\n",
        " is formed by replacing all occurrences of 'T' in t\n",
        " with 'U' in u\n",
        ".\n",
        "\n",
        "Given: A DNA string t\n",
        " having length at most 1000 nt.\n",
        "\n",
        "Return: The transcribed RNA string of t\n",
        ".\n",
        "\n",
        "### Sample Dataset\n",
        "GATGGAACTTGACTACGTAAATT\n",
        "### Sample Output\n",
        "GAUGGAACUUGACUACGUAAAUU"
      ],
      "metadata": {
        "id": "PJyCDzBoFXnz"
      }
    },
    {
      "cell_type": "code",
      "source": [
        "### Problem something\n",
        "\n",
        "\n",
        "sequence = 'GATGGAACTTGACTACGTAAATT'\n",
        "\n",
        "def DNA_to_RNA(seq):\n",
        "  return sequence.replace('T', 'U')\n",
        "\n",
        "print(DNA_to_RNA(sequence))"
      ],
      "metadata": {
        "colab": {
          "base_uri": "https://localhost:8080/"
        },
        "id": "n2jTunDEFmsX",
        "outputId": "8230debb-3d3c-40c5-d05d-0fef9f47a19b"
      },
      "execution_count": 1,
      "outputs": [
        {
          "output_type": "stream",
          "name": "stdout",
          "text": [
            "GAUGGAACUUGACUACGUAAAUU\n"
          ]
        }
      ]
    },
    {
      "cell_type": "code",
      "source": [
        "### This is a new problem here new stuff here"
      ],
      "metadata": {
        "id": "3EBOsnH5-2MR"
      },
      "execution_count": null,
      "outputs": []
    }
  ]
}