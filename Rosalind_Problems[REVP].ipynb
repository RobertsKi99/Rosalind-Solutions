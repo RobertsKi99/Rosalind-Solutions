{
  "nbformat": 4,
  "nbformat_minor": 0,
  "metadata": {
    "colab": {
      "provenance": [],
      "authorship_tag": "ABX9TyPvbXj5oMVjvSiorTvxw60o",
      "include_colab_link": true
    },
    "kernelspec": {
      "name": "python3",
      "display_name": "Python 3"
    },
    "language_info": {
      "name": "python"
    }
  },
  "cells": [
    {
      "cell_type": "markdown",
      "metadata": {
        "id": "view-in-github",
        "colab_type": "text"
      },
      "source": [
        "<a href=\"https://colab.research.google.com/github/RobertsKi99/Rosalind-Solutions/blob/main/Rosalind_Problems%5BREVP%5D.ipynb\" target=\"_parent\"><img src=\"https://colab.research.google.com/assets/colab-badge.svg\" alt=\"Open In Colab\"/></a>"
      ]
    },
    {
      "cell_type": "markdown",
      "source": [
        "## Problem\n",
        "\n",
        "Figure 2. Palindromic recognition site\n",
        "A DNA string is a reverse palindrome if it is equal to its reverse complement. For instance, GCATGC is a reverse palindrome because its reverse complement is GCATGC. See Figure 2.\n",
        "\n",
        "**Given**: A DNA string of length at most 1 kbp in FASTA format.\n",
        "\n",
        "**Return**: The position and length of every reverse palindrome in the string having length between 4 and 12. You may return these pairs in any order.\n",
        "\n",
        "### Sample Dataset  \n",
        ".   > Rosalind_24\n",
        "TCAATGCATGCGGGTCTATATGCAT\n",
        "  \n",
        "### Sample Output\n",
        "4 6\n",
        "\n",
        "5 4\n",
        "\n",
        "6 6\n",
        "\n",
        "7 4\n",
        "\n",
        "17 4\n",
        "\n",
        "18 4\n",
        "\n",
        "20 6\n",
        "\n",
        "21 4"
      ],
      "metadata": {
        "id": "BVDrRwID6gPZ"
      }
    },
    {
      "cell_type": "code",
      "source": [
        "sequence= '>Rosalind_24 TCAATGCATGCGGGTCTATATGCAT'\n",
        "\n",
        "def rv_comp(seq):\n",
        "  if ' > ' in seq:\n",
        "        seq = seq.split(' ')[1]\n",
        "  complement = {'A': 'T', 'T': 'A', 'C': 'G', 'G': 'C'}\n",
        "  return ''.join([complement.get(base, base) for base in seq[::-1]])\n",
        "\n",
        "def find_rv_palindromes(seq):\n",
        "    palindromes = []\n",
        "    seq = seq.split(' ')[1]\n",
        "    for i in range(len(seq)):\n",
        "        for length in range(4, 13):\n",
        "            if i + length <= len(seq):\n",
        "                substring = seq[i:i+length]\n",
        "                if substring == rv_comp(substring):\n",
        "                    palindromes.append((i + 1, length))\n",
        "    return palindromes\n",
        "\n",
        "print(find_rv_palindromes(sequence))"
      ],
      "metadata": {
        "colab": {
          "base_uri": "https://localhost:8080/"
        },
        "id": "zpo8redR-rWC",
        "outputId": "f6fd597e-9467-47fc-b868-ad50d45ab987"
      },
      "execution_count": 21,
      "outputs": [
        {
          "output_type": "stream",
          "name": "stdout",
          "text": [
            "[(4, 6), (5, 4), (6, 6), (7, 4), (17, 4), (18, 4), (20, 6), (21, 4)]\n"
          ]
        }
      ]
    }
  ]
}