{
  "nbformat": 4,
  "nbformat_minor": 0,
  "metadata": {
    "colab": {
      "provenance": [],
      "authorship_tag": "ABX9TyP7VCk14/ubvotCjZ4ve54f",
      "include_colab_link": true
    },
    "kernelspec": {
      "name": "python3",
      "display_name": "Python 3"
    },
    "language_info": {
      "name": "python"
    }
  },
  "cells": [
    {
      "cell_type": "markdown",
      "metadata": {
        "id": "view-in-github",
        "colab_type": "text"
      },
      "source": [
        "<a href=\"https://colab.research.google.com/github/RobertsKi99/Rosalind-Solutions/blob/main/Rosalind_Problems%5BLCSM%5D.ipynb\" target=\"_parent\"><img src=\"https://colab.research.google.com/assets/colab-badge.svg\" alt=\"Open In Colab\"/></a>"
      ]
    },
    {
      "cell_type": "markdown",
      "source": [
        "## Problem\n",
        "A common substring of a collection of strings is a substring of every member of the collection. We say that a common substring is a longest common substring if there does not exist a longer common substring. For example, \"CG\" is a common substring of \"ACGTACGT\" and \"AACCGTATA\", but it is not as long as possible; in this case, \"CGTA\" is a longest common substring of \"ACGTACGT\" and \"AACCGTATA\".\n",
        "\n",
        "Note that the longest common substring is not necessarily unique; for a simple example, \"AA\" and \"CC\" are both longest common substrings of \"AACC\" and \"CCAA\".\n",
        "\n",
        "**Given**: A collection of k\n",
        " (k≤100\n",
        ") DNA strings of length at most 1 kbp each in FASTA format.\n",
        "\n",
        "**Return**: A longest common substring of the collection. (If multiple solutions exist, you may return any single solution.)\n",
        "\n",
        "### Sample Dataset\n",
        "**>Rosalind_1 GATTACA**\n",
        "\n",
        "**>Rosalind_2 TAGACCA**\n",
        "\n",
        "**>Rosalind_3 ATACA**\n",
        "\n",
        "### Sample Output\n",
        "AC"
      ],
      "metadata": {
        "id": "Gdf35BJ4EWsL"
      }
    },
    {
      "source": [
        "sequences = [\">Rosalind_1 GATTACA\", \">Rosalind_2 TAGACCA\", \">Rosalind_3 ATACA\"]\n",
        "\n",
        "def longest_common_substring(sequences):\n",
        "    for index, seq in enumerate(sequences):\n",
        "        if '>' in seq:\n",
        "            sequences[index] = seq.split(' ')[1]\n",
        "\n",
        "    ref_seq = min(sequences, key=len)\n",
        "    for length in range(len(ref_seq), 0, -1):\n",
        "        for start in range(len(ref_seq) - length + 1):\n",
        "            substr = ref_seq[start:start + length]\n",
        "            if all(substr in seq for seq in sequences):\n",
        "                return substr\n",
        "    return \"\"\n",
        "\n",
        "print(longest_common_substring(sequences))"
      ],
      "cell_type": "code",
      "metadata": {
        "colab": {
          "base_uri": "https://localhost:8080/"
        },
        "id": "o_P82nG4Z0Hw",
        "outputId": "7f0bd71f-76b9-4a9e-ab22-e18c4bb46efb"
      },
      "execution_count": 10,
      "outputs": [
        {
          "output_type": "stream",
          "name": "stdout",
          "text": [
            "TA\n"
          ]
        }
      ]
    }
  ]
}