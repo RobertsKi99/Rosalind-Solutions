{
  "nbformat": 4,
  "nbformat_minor": 0,
  "metadata": {
    "colab": {
      "provenance": [],
      "authorship_tag": "ABX9TyNcAz2LX0T0qHVH/PWF+H86"
    },
    "kernelspec": {
      "name": "python3",
      "display_name": "Python 3"
    },
    "language_info": {
      "name": "python"
    }
  },
  "cells": [
    {
      "cell_type": "markdown",
      "source": [
        "## Problem\n",
        "For DNA strings s1\n",
        " and s2\n",
        " having the same length, their transition/transversion ratio R(s1,s2)\n",
        " is the ratio of the total number of transitions to the total number of transversions, where symbol substitutions are inferred from mismatched corresponding symbols as when calculating Hamming distance (see “Counting Point Mutations”).\n",
        "\n",
        "**Given**: Two DNA strings s1\n",
        " and s2\n",
        " of equal length (at most 1 kbp).\n",
        "\n",
        "**Return**: The transition/transversion ratio R(s1,s2)\n",
        ".\n",
        "\n",
        "### Sample Dataset\n",
        "**>Rosalind_0209**\n",
        "GCAACGCACAACGAAAACCCTTAGGGACTGGATTATTTCGTGATCGTTGTAGTTATTGGAAGTACGGGCATCAACCCAGT\n",
        "\n",
        "**>Rosalind_2200**\n",
        "TTATCTGACAAAGAAAGCCGTCAACGGCTGGATAATTTCGCGATCGTGCTGGTTACTGGCGGTACGAGTGTTCCTTTGGT\n",
        "\n",
        "### Sample Output\n",
        "1.21428571429"
      ],
      "metadata": {
        "id": "mFEDjBLBAlLo"
      }
    },
    {
      "cell_type": "code",
      "source": [
        "seq1 = '>Rosalind_0209 GCAACGCACAACGAAAACCCTTAGGGACTGGATTATTTCGTGATCGTTGTAGTTATTGGAAGTACGGGCATCAACCCAGTT'\n",
        "\n",
        "seq2 = '>Rosalind_2200 TTATCTGACAAAGAAAGCCGTCAACGGCTGGATAATTTCGCGATCGTGCTGGTTACTGGCGGTACGAGTGTTCCTTTGGGT'\n",
        "\n",
        "def transition_transversion_ratio(seq1, seq2):\n",
        "  if '>' in seq1 and '>' in seq2:\n",
        "        seq1 = seq1.split(' ')[1]\n",
        "        seq2 = seq2.split(' ')[1]\n",
        "  transitions = 0\n",
        "  transversions = 0\n",
        "  for i in range(len(seq1)):\n",
        "      if seq1[i] != seq2[i]:\n",
        "          if (seq1[i] == 'A' and seq2[i] == 'G') or \\\n",
        "              (seq1[i] == 'G' and seq2[i] == 'A') or \\\n",
        "              (seq1[i] == 'C' and seq2[i] == 'T') or \\\n",
        "              (seq1[i] == 'T' and seq2[i] == 'C'):\n",
        "              transitions += 1\n",
        "          else:\n",
        "              transversions += 1\n",
        "  if transversions == 0:\n",
        "    return 0\n",
        "  return transitions / transversions\n",
        "\n",
        "\n",
        "print(transition_transversion_ratio(seq1, seq2))\n"
      ],
      "metadata": {
        "colab": {
          "base_uri": "https://localhost:8080/"
        },
        "id": "ec_yoXS_AmR7",
        "outputId": "bc10de7b-8b7d-4b09-c969-13fd6000d09c"
      },
      "execution_count": 18,
      "outputs": [
        {
          "output_type": "stream",
          "name": "stdout",
          "text": [
            "1.2142857142857142\n"
          ]
        }
      ]
    }
  ]
}